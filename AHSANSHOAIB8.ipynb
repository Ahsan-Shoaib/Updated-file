{
 "cells": [
  {
   "cell_type": "code",
   "execution_count": 1,
   "id": "556720e7-7ef3-4d25-8c9e-443032ac0317",
   "metadata": {},
   "outputs": [],
   "source": [
    "import csv"
   ]
  },
  {
   "cell_type": "code",
   "execution_count": 2,
   "id": "62084f36-d395-46a9-aa7e-01209e057c53",
   "metadata": {},
   "outputs": [
    {
     "data": {
      "text/plain": [
       "<_io.TextIOWrapper name='student data.csv' mode='r' encoding='cp1252'>"
      ]
     },
     "execution_count": 2,
     "metadata": {},
     "output_type": "execute_result"
    }
   ],
   "source": [
    "open_file = open('student data.csv',mode = 'r')\n",
    "open_file"
   ]
  },
  {
   "cell_type": "code",
   "execution_count": 3,
   "id": "6d61fda6-76d9-4d47-a7ae-e5d82a9dd638",
   "metadata": {},
   "outputs": [
    {
     "data": {
      "text/plain": [
       "<_csv.reader at 0x1704893a740>"
      ]
     },
     "execution_count": 3,
     "metadata": {},
     "output_type": "execute_result"
    }
   ],
   "source": [
    "read = csv.reader(open_file)\n",
    "read"
   ]
  },
  {
   "cell_type": "code",
   "execution_count": 4,
   "id": "4795a391-a163-41db-ad07-b0744bf4e3fb",
   "metadata": {},
   "outputs": [
    {
     "data": {
      "text/plain": [
       "[['roll no', 'Name', 'Chemistry', 'Physics', 'Math'],\n",
       " ['101', 'Aliza', '50', '23', '87'],\n",
       " ['102', 'Fareed', '45', '24', '88'],\n",
       " ['103', 'Basit', '46', '25', '89'],\n",
       " ['104', 'Abdullah', '47', '26', '90'],\n",
       " ['105', 'Ali', '48', '27', '67'],\n",
       " ['106', 'Mubashir', '49', '28', '68'],\n",
       " ['107', 'Waleed', '50', '29', '69'],\n",
       " ['108', 'Mansoor', '51', '30', '70'],\n",
       " ['109', 'Zain', '52', '31', '71'],\n",
       " ['110', 'Mohsin', '53', '67', '72'],\n",
       " ['111', 'Shahmeer', '54', '68', '73'],\n",
       " ['112', 'Rao', '55', '69', '74'],\n",
       " ['113', 'Aurangzeb', '56', '70', '75'],\n",
       " ['114', 'Zeeshan', '57', '71', '76'],\n",
       " ['115', 'Hamna', '58', '72', '77'],\n",
       " ['116', 'Hamza', '59', '73', '78'],\n",
       " ['117', 'Khalid', '60', '74', '79'],\n",
       " ['118', 'Behroz', '61', '75', '80'],\n",
       " ['119', 'Justin', '62', '76', '81'],\n",
       " ['120', 'Danish', '63', '77', '82'],\n",
       " ['121', 'Kainat', '64', '78', '83'],\n",
       " ['122', 'Sameer', '65', '79', '84'],\n",
       " ['123', 'Raza', '66', '80', '85'],\n",
       " ['124', 'Kumar', '67', '81', '86'],\n",
       " ['125', 'Komal', '68', '82', '87'],\n",
       " ['126', 'Erum', '69', '83', '88'],\n",
       " ['127', 'Faiza', '70', '84', '89'],\n",
       " ['128', 'Saeed', '71', '85', '90'],\n",
       " ['129', 'Waqar', '72', '86', '91'],\n",
       " ['130', 'Wali', '73', '87', '92'],\n",
       " ['131', 'Wajid', '74', '88', '93'],\n",
       " ['132', 'Waseeb', '75', '89', '94'],\n",
       " ['133', 'Shiza', '76', '90', '95'],\n",
       " ['134', 'Shabina', '77', '91', '96'],\n",
       " ['135', 'Shazain', '78', '55', '97'],\n",
       " ['136', 'Lubna', '79', '61', '98'],\n",
       " ['137', 'Laiba', '80', '88', '78'],\n",
       " ['138', 'Khursheed', '81', '56', '45'],\n",
       " ['139', 'Ali', '82', '89', '46'],\n",
       " ['140', 'Aiza', '83', '45', '89'],\n",
       " ['141', 'Aiman', '84', '92', '78'],\n",
       " ['142', 'Yasmeen', '85', '36', '56'],\n",
       " ['143', 'Tasbeel', '86', '78', '78'],\n",
       " ['144', 'Laraib', '87', '56', '54'],\n",
       " ['145', 'Saleem', '88', '78', '78'],\n",
       " ['146', 'Bismil', '89', '89', '46'],\n",
       " ['147', 'Batool', '90', '56', '79'],\n",
       " ['148', 'Iqra', '91', '33', '46'],\n",
       " ['149', 'Zarnish', '92', '78', '45'],\n",
       " ['150', 'Zara', '83', '45', '56']]"
      ]
     },
     "execution_count": 4,
     "metadata": {},
     "output_type": "execute_result"
    }
   ],
   "source": [
    "data = list(read)\n",
    "data"
   ]
  },
  {
   "cell_type": "code",
   "execution_count": 5,
   "id": "c75adab9-c95d-4b33-a983-5d4a432d30f8",
   "metadata": {},
   "outputs": [
    {
     "data": {
      "text/plain": [
       "['roll no', 'Name', 'Chemistry', 'Physics', 'Math']"
      ]
     },
     "execution_count": 5,
     "metadata": {},
     "output_type": "execute_result"
    }
   ],
   "source": [
    "header = data[0]\n",
    "header"
   ]
  },
  {
   "cell_type": "code",
   "execution_count": 6,
   "id": "8e2ea1f7-17e9-460c-b9bc-27fe8946128e",
   "metadata": {},
   "outputs": [
    {
     "data": {
      "text/plain": [
       "[['101', 'Aliza', '50', '23', '87'],\n",
       " ['102', 'Fareed', '45', '24', '88'],\n",
       " ['103', 'Basit', '46', '25', '89'],\n",
       " ['104', 'Abdullah', '47', '26', '90'],\n",
       " ['105', 'Ali', '48', '27', '67'],\n",
       " ['106', 'Mubashir', '49', '28', '68'],\n",
       " ['107', 'Waleed', '50', '29', '69'],\n",
       " ['108', 'Mansoor', '51', '30', '70'],\n",
       " ['109', 'Zain', '52', '31', '71'],\n",
       " ['110', 'Mohsin', '53', '67', '72'],\n",
       " ['111', 'Shahmeer', '54', '68', '73'],\n",
       " ['112', 'Rao', '55', '69', '74'],\n",
       " ['113', 'Aurangzeb', '56', '70', '75'],\n",
       " ['114', 'Zeeshan', '57', '71', '76'],\n",
       " ['115', 'Hamna', '58', '72', '77'],\n",
       " ['116', 'Hamza', '59', '73', '78'],\n",
       " ['117', 'Khalid', '60', '74', '79'],\n",
       " ['118', 'Behroz', '61', '75', '80'],\n",
       " ['119', 'Justin', '62', '76', '81'],\n",
       " ['120', 'Danish', '63', '77', '82'],\n",
       " ['121', 'Kainat', '64', '78', '83'],\n",
       " ['122', 'Sameer', '65', '79', '84'],\n",
       " ['123', 'Raza', '66', '80', '85'],\n",
       " ['124', 'Kumar', '67', '81', '86'],\n",
       " ['125', 'Komal', '68', '82', '87'],\n",
       " ['126', 'Erum', '69', '83', '88'],\n",
       " ['127', 'Faiza', '70', '84', '89'],\n",
       " ['128', 'Saeed', '71', '85', '90'],\n",
       " ['129', 'Waqar', '72', '86', '91'],\n",
       " ['130', 'Wali', '73', '87', '92'],\n",
       " ['131', 'Wajid', '74', '88', '93'],\n",
       " ['132', 'Waseeb', '75', '89', '94'],\n",
       " ['133', 'Shiza', '76', '90', '95'],\n",
       " ['134', 'Shabina', '77', '91', '96'],\n",
       " ['135', 'Shazain', '78', '55', '97'],\n",
       " ['136', 'Lubna', '79', '61', '98'],\n",
       " ['137', 'Laiba', '80', '88', '78'],\n",
       " ['138', 'Khursheed', '81', '56', '45'],\n",
       " ['139', 'Ali', '82', '89', '46'],\n",
       " ['140', 'Aiza', '83', '45', '89'],\n",
       " ['141', 'Aiman', '84', '92', '78'],\n",
       " ['142', 'Yasmeen', '85', '36', '56'],\n",
       " ['143', 'Tasbeel', '86', '78', '78'],\n",
       " ['144', 'Laraib', '87', '56', '54'],\n",
       " ['145', 'Saleem', '88', '78', '78'],\n",
       " ['146', 'Bismil', '89', '89', '46'],\n",
       " ['147', 'Batool', '90', '56', '79'],\n",
       " ['148', 'Iqra', '91', '33', '46'],\n",
       " ['149', 'Zarnish', '92', '78', '45'],\n",
       " ['150', 'Zara', '83', '45', '56']]"
      ]
     },
     "execution_count": 6,
     "metadata": {},
     "output_type": "execute_result"
    }
   ],
   "source": [
    "student_data = data[1:51]\n",
    "student_data"
   ]
  },
  {
   "cell_type": "code",
   "execution_count": 7,
   "id": "893ff8a9-5fda-4e19-929e-01b29f866693",
   "metadata": {},
   "outputs": [],
   "source": [
    "physics_marks = []\n",
    "for a in student_data:\n",
    "    physics_marks.append(float(a[3]))"
   ]
  },
  {
   "cell_type": "code",
   "execution_count": 8,
   "id": "36ebb3ba-ea7f-4c1e-a36c-802f326f3c8b",
   "metadata": {},
   "outputs": [
    {
     "data": {
      "text/plain": [
       "[23.0,\n",
       " 24.0,\n",
       " 25.0,\n",
       " 26.0,\n",
       " 27.0,\n",
       " 28.0,\n",
       " 29.0,\n",
       " 30.0,\n",
       " 31.0,\n",
       " 67.0,\n",
       " 68.0,\n",
       " 69.0,\n",
       " 70.0,\n",
       " 71.0,\n",
       " 72.0,\n",
       " 73.0,\n",
       " 74.0,\n",
       " 75.0,\n",
       " 76.0,\n",
       " 77.0,\n",
       " 78.0,\n",
       " 79.0,\n",
       " 80.0,\n",
       " 81.0,\n",
       " 82.0,\n",
       " 83.0,\n",
       " 84.0,\n",
       " 85.0,\n",
       " 86.0,\n",
       " 87.0,\n",
       " 88.0,\n",
       " 89.0,\n",
       " 90.0,\n",
       " 91.0,\n",
       " 55.0,\n",
       " 61.0,\n",
       " 88.0,\n",
       " 56.0,\n",
       " 89.0,\n",
       " 45.0,\n",
       " 92.0,\n",
       " 36.0,\n",
       " 78.0,\n",
       " 56.0,\n",
       " 78.0,\n",
       " 89.0,\n",
       " 56.0,\n",
       " 33.0,\n",
       " 78.0,\n",
       " 45.0]"
      ]
     },
     "execution_count": 8,
     "metadata": {},
     "output_type": "execute_result"
    }
   ],
   "source": [
    "physics_marks"
   ]
  },
  {
   "cell_type": "code",
   "execution_count": 9,
   "id": "c36b0b5e-71e2-4b5e-849c-b181672959b7",
   "metadata": {},
   "outputs": [
    {
     "data": {
      "text/plain": [
       "3253.0"
      ]
     },
     "execution_count": 9,
     "metadata": {},
     "output_type": "execute_result"
    }
   ],
   "source": [
    "sum (physics_marks)"
   ]
  },
  {
   "cell_type": "code",
   "execution_count": 10,
   "id": "6717ebc4-5ed4-49d3-bca3-ed68b3013b1b",
   "metadata": {},
   "outputs": [
    {
     "data": {
      "text/plain": [
       "50"
      ]
     },
     "execution_count": 10,
     "metadata": {},
     "output_type": "execute_result"
    }
   ],
   "source": [
    "len (physics_marks)"
   ]
  },
  {
   "cell_type": "code",
   "execution_count": 11,
   "id": "fd07df67-6aac-4de4-a754-52e0c3e956e1",
   "metadata": {},
   "outputs": [
    {
     "data": {
      "text/plain": [
       "65.06"
      ]
     },
     "execution_count": 11,
     "metadata": {},
     "output_type": "execute_result"
    }
   ],
   "source": [
    "Avg_physics_marks = sum(physics_marks)/len(physics_marks)\n",
    "Avg_physics_marks"
   ]
  },
  {
   "cell_type": "code",
   "execution_count": 12,
   "id": "90d2ab9e-ad4a-45e0-aa9c-1822e5cd2241",
   "metadata": {},
   "outputs": [],
   "source": [
    "maths_marks = []\n",
    "for a in student_data:\n",
    "    maths_marks.append(float(a[4]))"
   ]
  },
  {
   "cell_type": "code",
   "execution_count": 13,
   "id": "2d536666-ed49-4c43-b61e-ab17f30b0562",
   "metadata": {},
   "outputs": [
    {
     "data": {
      "text/plain": [
       "[87.0,\n",
       " 88.0,\n",
       " 89.0,\n",
       " 90.0,\n",
       " 67.0,\n",
       " 68.0,\n",
       " 69.0,\n",
       " 70.0,\n",
       " 71.0,\n",
       " 72.0,\n",
       " 73.0,\n",
       " 74.0,\n",
       " 75.0,\n",
       " 76.0,\n",
       " 77.0,\n",
       " 78.0,\n",
       " 79.0,\n",
       " 80.0,\n",
       " 81.0,\n",
       " 82.0,\n",
       " 83.0,\n",
       " 84.0,\n",
       " 85.0,\n",
       " 86.0,\n",
       " 87.0,\n",
       " 88.0,\n",
       " 89.0,\n",
       " 90.0,\n",
       " 91.0,\n",
       " 92.0,\n",
       " 93.0,\n",
       " 94.0,\n",
       " 95.0,\n",
       " 96.0,\n",
       " 97.0,\n",
       " 98.0,\n",
       " 78.0,\n",
       " 45.0,\n",
       " 46.0,\n",
       " 89.0,\n",
       " 78.0,\n",
       " 56.0,\n",
       " 78.0,\n",
       " 54.0,\n",
       " 78.0,\n",
       " 46.0,\n",
       " 79.0,\n",
       " 46.0,\n",
       " 45.0,\n",
       " 56.0]"
      ]
     },
     "execution_count": 13,
     "metadata": {},
     "output_type": "execute_result"
    }
   ],
   "source": [
    "maths_marks"
   ]
  },
  {
   "cell_type": "code",
   "execution_count": 14,
   "id": "59bc97cf-86b3-4435-844a-079bef113c26",
   "metadata": {},
   "outputs": [
    {
     "data": {
      "text/plain": [
       "3868.0"
      ]
     },
     "execution_count": 14,
     "metadata": {},
     "output_type": "execute_result"
    }
   ],
   "source": [
    "sum (maths_marks)"
   ]
  },
  {
   "cell_type": "code",
   "execution_count": 15,
   "id": "3d9c927c-c436-4342-bb7a-f7b2f2060609",
   "metadata": {},
   "outputs": [
    {
     "data": {
      "text/plain": [
       "50"
      ]
     },
     "execution_count": 15,
     "metadata": {},
     "output_type": "execute_result"
    }
   ],
   "source": [
    "len(maths_marks)"
   ]
  },
  {
   "cell_type": "code",
   "execution_count": 16,
   "id": "aa7aa61e-354c-42b6-b9e0-a8df2732bd31",
   "metadata": {},
   "outputs": [
    {
     "data": {
      "text/plain": [
       "77.36"
      ]
     },
     "execution_count": 16,
     "metadata": {},
     "output_type": "execute_result"
    }
   ],
   "source": [
    "Avg_maths_marks = sum(maths_marks)/len(maths_marks)\n",
    "Avg_maths_marks"
   ]
  },
  {
   "cell_type": "code",
   "execution_count": 17,
   "id": "f79c4067-20ed-4fc3-91d4-b37e7854446d",
   "metadata": {},
   "outputs": [
    {
     "data": {
      "text/plain": [
       "[['101', 'Aliza', '50', '23', '87'],\n",
       " ['102', 'Fareed', '45', '24', '88'],\n",
       " ['103', 'Basit', '46', '25', '89'],\n",
       " ['104', 'Abdullah', '47', '26', '90'],\n",
       " ['105', 'Ali', '48', '27', '67'],\n",
       " ['106', 'Mubashir', '49', '28', '68'],\n",
       " ['107', 'Waleed', '50', '29', '69'],\n",
       " ['108', 'Mansoor', '51', '30', '70'],\n",
       " ['109', 'Zain', '52', '31', '71'],\n",
       " ['110', 'Mohsin', '53', '67', '72'],\n",
       " ['111', 'Shahmeer', '54', '68', '73'],\n",
       " ['112', 'Rao', '55', '69', '74'],\n",
       " ['113', 'Aurangzeb', '56', '70', '75'],\n",
       " ['114', 'Zeeshan', '57', '71', '76'],\n",
       " ['115', 'Hamna', '58', '72', '77'],\n",
       " ['116', 'Hamza', '59', '73', '78'],\n",
       " ['117', 'Khalid', '60', '74', '79'],\n",
       " ['118', 'Behroz', '61', '75', '80'],\n",
       " ['119', 'Justin', '62', '76', '81'],\n",
       " ['120', 'Danish', '63', '77', '82'],\n",
       " ['121', 'Kainat', '64', '78', '83'],\n",
       " ['122', 'Sameer', '65', '79', '84'],\n",
       " ['123', 'Raza', '66', '80', '85'],\n",
       " ['124', 'Kumar', '67', '81', '86'],\n",
       " ['125', 'Komal', '68', '82', '87'],\n",
       " ['126', 'Erum', '69', '83', '88'],\n",
       " ['127', 'Faiza', '70', '84', '89'],\n",
       " ['128', 'Saeed', '71', '85', '90'],\n",
       " ['129', 'Waqar', '72', '86', '91'],\n",
       " ['130', 'Wali', '73', '87', '92'],\n",
       " ['131', 'Wajid', '74', '88', '93'],\n",
       " ['132', 'Waseeb', '75', '89', '94'],\n",
       " ['133', 'Shiza', '76', '90', '95'],\n",
       " ['134', 'Shabina', '77', '91', '96'],\n",
       " ['135', 'Shazain', '78', '55', '97'],\n",
       " ['136', 'Lubna', '79', '61', '98'],\n",
       " ['137', 'Laiba', '80', '88', '78'],\n",
       " ['138', 'Khursheed', '81', '56', '45'],\n",
       " ['139', 'Ali', '82', '89', '46'],\n",
       " ['140', 'Aiza', '83', '45', '89'],\n",
       " ['141', 'Aiman', '84', '92', '78'],\n",
       " ['142', 'Yasmeen', '85', '36', '56'],\n",
       " ['143', 'Tasbeel', '86', '78', '78'],\n",
       " ['144', 'Laraib', '87', '56', '54'],\n",
       " ['145', 'Saleem', '88', '78', '78'],\n",
       " ['146', 'Bismil', '89', '89', '46'],\n",
       " ['147', 'Batool', '90', '56', '79'],\n",
       " ['148', 'Iqra', '91', '33', '46'],\n",
       " ['149', 'Zarnish', '92', '78', '45'],\n",
       " ['150', 'Zara', '83', '45', '56']]"
      ]
     },
     "execution_count": 17,
     "metadata": {},
     "output_type": "execute_result"
    }
   ],
   "source": [
    "student_data"
   ]
  },
  {
   "cell_type": "code",
   "execution_count": 18,
   "id": "11aabb60-668e-4277-a2d0-6f78797c681a",
   "metadata": {},
   "outputs": [],
   "source": [
    "for per in student_data:\n",
    "    chemistry = int(per[2])\n",
    "    physics = int(per[3])\n",
    "    maths = int(per[4])\n",
    "    percentage = round((chemistry+physics+maths)/300*100,1)\n",
    "    per.append(percentage)"
   ]
  },
  {
   "cell_type": "code",
   "execution_count": 19,
   "id": "73090e24-de24-49ad-8eab-1318969205c6",
   "metadata": {},
   "outputs": [
    {
     "data": {
      "text/plain": [
       "[['101', 'Aliza', '50', '23', '87', 53.3],\n",
       " ['102', 'Fareed', '45', '24', '88', 52.3],\n",
       " ['103', 'Basit', '46', '25', '89', 53.3],\n",
       " ['104', 'Abdullah', '47', '26', '90', 54.3],\n",
       " ['105', 'Ali', '48', '27', '67', 47.3],\n",
       " ['106', 'Mubashir', '49', '28', '68', 48.3],\n",
       " ['107', 'Waleed', '50', '29', '69', 49.3],\n",
       " ['108', 'Mansoor', '51', '30', '70', 50.3],\n",
       " ['109', 'Zain', '52', '31', '71', 51.3],\n",
       " ['110', 'Mohsin', '53', '67', '72', 64.0],\n",
       " ['111', 'Shahmeer', '54', '68', '73', 65.0],\n",
       " ['112', 'Rao', '55', '69', '74', 66.0],\n",
       " ['113', 'Aurangzeb', '56', '70', '75', 67.0],\n",
       " ['114', 'Zeeshan', '57', '71', '76', 68.0],\n",
       " ['115', 'Hamna', '58', '72', '77', 69.0],\n",
       " ['116', 'Hamza', '59', '73', '78', 70.0],\n",
       " ['117', 'Khalid', '60', '74', '79', 71.0],\n",
       " ['118', 'Behroz', '61', '75', '80', 72.0],\n",
       " ['119', 'Justin', '62', '76', '81', 73.0],\n",
       " ['120', 'Danish', '63', '77', '82', 74.0],\n",
       " ['121', 'Kainat', '64', '78', '83', 75.0],\n",
       " ['122', 'Sameer', '65', '79', '84', 76.0],\n",
       " ['123', 'Raza', '66', '80', '85', 77.0],\n",
       " ['124', 'Kumar', '67', '81', '86', 78.0],\n",
       " ['125', 'Komal', '68', '82', '87', 79.0],\n",
       " ['126', 'Erum', '69', '83', '88', 80.0],\n",
       " ['127', 'Faiza', '70', '84', '89', 81.0],\n",
       " ['128', 'Saeed', '71', '85', '90', 82.0],\n",
       " ['129', 'Waqar', '72', '86', '91', 83.0],\n",
       " ['130', 'Wali', '73', '87', '92', 84.0],\n",
       " ['131', 'Wajid', '74', '88', '93', 85.0],\n",
       " ['132', 'Waseeb', '75', '89', '94', 86.0],\n",
       " ['133', 'Shiza', '76', '90', '95', 87.0],\n",
       " ['134', 'Shabina', '77', '91', '96', 88.0],\n",
       " ['135', 'Shazain', '78', '55', '97', 76.7],\n",
       " ['136', 'Lubna', '79', '61', '98', 79.3],\n",
       " ['137', 'Laiba', '80', '88', '78', 82.0],\n",
       " ['138', 'Khursheed', '81', '56', '45', 60.7],\n",
       " ['139', 'Ali', '82', '89', '46', 72.3],\n",
       " ['140', 'Aiza', '83', '45', '89', 72.3],\n",
       " ['141', 'Aiman', '84', '92', '78', 84.7],\n",
       " ['142', 'Yasmeen', '85', '36', '56', 59.0],\n",
       " ['143', 'Tasbeel', '86', '78', '78', 80.7],\n",
       " ['144', 'Laraib', '87', '56', '54', 65.7],\n",
       " ['145', 'Saleem', '88', '78', '78', 81.3],\n",
       " ['146', 'Bismil', '89', '89', '46', 74.7],\n",
       " ['147', 'Batool', '90', '56', '79', 75.0],\n",
       " ['148', 'Iqra', '91', '33', '46', 56.7],\n",
       " ['149', 'Zarnish', '92', '78', '45', 71.7],\n",
       " ['150', 'Zara', '83', '45', '56', 61.3]]"
      ]
     },
     "execution_count": 19,
     "metadata": {},
     "output_type": "execute_result"
    }
   ],
   "source": [
    "student_data"
   ]
  },
  {
   "cell_type": "code",
   "execution_count": 20,
   "id": "8748a7cd-74e3-43e9-9685-cd477e8b88bc",
   "metadata": {},
   "outputs": [],
   "source": [
    "data[0].append('percentage')"
   ]
  },
  {
   "cell_type": "code",
   "execution_count": 21,
   "id": "3bbdc77a-3838-4c36-a7ee-9993e8963ea3",
   "metadata": {},
   "outputs": [
    {
     "data": {
      "text/plain": [
       "[['roll no', 'Name', 'Chemistry', 'Physics', 'Math', 'percentage'],\n",
       " ['101', 'Aliza', '50', '23', '87', 53.3],\n",
       " ['102', 'Fareed', '45', '24', '88', 52.3],\n",
       " ['103', 'Basit', '46', '25', '89', 53.3],\n",
       " ['104', 'Abdullah', '47', '26', '90', 54.3],\n",
       " ['105', 'Ali', '48', '27', '67', 47.3],\n",
       " ['106', 'Mubashir', '49', '28', '68', 48.3],\n",
       " ['107', 'Waleed', '50', '29', '69', 49.3],\n",
       " ['108', 'Mansoor', '51', '30', '70', 50.3],\n",
       " ['109', 'Zain', '52', '31', '71', 51.3],\n",
       " ['110', 'Mohsin', '53', '67', '72', 64.0],\n",
       " ['111', 'Shahmeer', '54', '68', '73', 65.0],\n",
       " ['112', 'Rao', '55', '69', '74', 66.0],\n",
       " ['113', 'Aurangzeb', '56', '70', '75', 67.0],\n",
       " ['114', 'Zeeshan', '57', '71', '76', 68.0],\n",
       " ['115', 'Hamna', '58', '72', '77', 69.0],\n",
       " ['116', 'Hamza', '59', '73', '78', 70.0],\n",
       " ['117', 'Khalid', '60', '74', '79', 71.0],\n",
       " ['118', 'Behroz', '61', '75', '80', 72.0],\n",
       " ['119', 'Justin', '62', '76', '81', 73.0],\n",
       " ['120', 'Danish', '63', '77', '82', 74.0],\n",
       " ['121', 'Kainat', '64', '78', '83', 75.0],\n",
       " ['122', 'Sameer', '65', '79', '84', 76.0],\n",
       " ['123', 'Raza', '66', '80', '85', 77.0],\n",
       " ['124', 'Kumar', '67', '81', '86', 78.0],\n",
       " ['125', 'Komal', '68', '82', '87', 79.0],\n",
       " ['126', 'Erum', '69', '83', '88', 80.0],\n",
       " ['127', 'Faiza', '70', '84', '89', 81.0],\n",
       " ['128', 'Saeed', '71', '85', '90', 82.0],\n",
       " ['129', 'Waqar', '72', '86', '91', 83.0],\n",
       " ['130', 'Wali', '73', '87', '92', 84.0],\n",
       " ['131', 'Wajid', '74', '88', '93', 85.0],\n",
       " ['132', 'Waseeb', '75', '89', '94', 86.0],\n",
       " ['133', 'Shiza', '76', '90', '95', 87.0],\n",
       " ['134', 'Shabina', '77', '91', '96', 88.0],\n",
       " ['135', 'Shazain', '78', '55', '97', 76.7],\n",
       " ['136', 'Lubna', '79', '61', '98', 79.3],\n",
       " ['137', 'Laiba', '80', '88', '78', 82.0],\n",
       " ['138', 'Khursheed', '81', '56', '45', 60.7],\n",
       " ['139', 'Ali', '82', '89', '46', 72.3],\n",
       " ['140', 'Aiza', '83', '45', '89', 72.3],\n",
       " ['141', 'Aiman', '84', '92', '78', 84.7],\n",
       " ['142', 'Yasmeen', '85', '36', '56', 59.0],\n",
       " ['143', 'Tasbeel', '86', '78', '78', 80.7],\n",
       " ['144', 'Laraib', '87', '56', '54', 65.7],\n",
       " ['145', 'Saleem', '88', '78', '78', 81.3],\n",
       " ['146', 'Bismil', '89', '89', '46', 74.7],\n",
       " ['147', 'Batool', '90', '56', '79', 75.0],\n",
       " ['148', 'Iqra', '91', '33', '46', 56.7],\n",
       " ['149', 'Zarnish', '92', '78', '45', 71.7],\n",
       " ['150', 'Zara', '83', '45', '56', 61.3]]"
      ]
     },
     "execution_count": 21,
     "metadata": {},
     "output_type": "execute_result"
    }
   ],
   "source": [
    "data"
   ]
  },
  {
   "cell_type": "code",
   "execution_count": 22,
   "id": "3ac9f0dd-6170-47ff-91b4-1c82aff999fa",
   "metadata": {},
   "outputs": [
    {
     "data": {
      "text/plain": [
       "<_io.TextIOWrapper name='data1.csv' mode='w' encoding='cp1252'>"
      ]
     },
     "execution_count": 22,
     "metadata": {},
     "output_type": "execute_result"
    }
   ],
   "source": [
    "open_file = open(\"data1.csv\",mode='w',newline='')\n",
    "open_file"
   ]
  },
  {
   "cell_type": "code",
   "execution_count": 23,
   "id": "5d47ea41-fedb-4a2c-b61f-602c80fb5394",
   "metadata": {},
   "outputs": [
    {
     "data": {
      "text/plain": [
       "<_csv.writer at 0x1704893a980>"
      ]
     },
     "execution_count": 23,
     "metadata": {},
     "output_type": "execute_result"
    }
   ],
   "source": [
    "writer = csv.writer(open_file)\n",
    "writer"
   ]
  },
  {
   "cell_type": "code",
   "execution_count": null,
   "id": "e2df1006-cf67-4e4d-88a6-2b1743109a3a",
   "metadata": {},
   "outputs": [],
   "source": [
    "writer.writerows(data)"
   ]
  }
 ],
 "metadata": {
  "kernelspec": {
   "display_name": "Python 3 (ipykernel)",
   "language": "python",
   "name": "python3"
  },
  "language_info": {
   "codemirror_mode": {
    "name": "ipython",
    "version": 3
   },
   "file_extension": ".py",
   "mimetype": "text/x-python",
   "name": "python",
   "nbconvert_exporter": "python",
   "pygments_lexer": "ipython3",
   "version": "3.12.4"
  }
 },
 "nbformat": 4,
 "nbformat_minor": 5
}
